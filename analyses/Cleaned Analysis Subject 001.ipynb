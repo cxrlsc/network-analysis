{
 "cells": [
  {
   "cell_type": "code",
   "execution_count": 15,
   "metadata": {},
   "outputs": [],
   "source": [
    "import pandas as pd\n",
    "import numpy as np\n",
    "import seaborn as sns \n",
    "import sklearn\n",
    "import matplotlib.pyplot as plt\n",
    "%matplotlib inline\n",
    "import warnings\n",
    "sns.set_palette(\"Blues_d\")\n",
    "\n",
    "from IPython.display import HTML\n",
    "\n",
    "# import the widgets module\n",
    "import ipywidgets as widgets\n",
    "from ipywidgets import interact, interactive, fixed, interact_manual\n",
    "\n",
    "warnings.filterwarnings(\"ignore\")\n",
    "sns.set(style=\"whitegrid\")\n",
    "import scipy.io\n",
    "import scipy \n",
    "import bct"
   ]
  },
  {
   "cell_type": "code",
   "execution_count": 92,
   "metadata": {},
   "outputs": [],
   "source": [
    "def normalized(val, mean):\n",
    "    return val/mean"
   ]
  },
  {
   "cell_type": "code",
   "execution_count": 27,
   "metadata": {},
   "outputs": [],
   "source": [
    "# function that takes in a participant's correlation matrix and \n",
    "# returns 5 matrices at different thresholds\n",
    "def threshold(arr, thresholds):\n",
    "    #thresholding the array\n",
    "    return [bct.threshold_proportional(arr, p, copy=True) for p in thresholds]"
   ]
  },
  {
   "cell_type": "code",
   "execution_count": 29,
   "metadata": {},
   "outputs": [],
   "source": [
    "def get_clustering_coeff(arr):\n",
    "    return bct.clustering_coef_wu(arr)"
   ]
  },
  {
   "cell_type": "code",
   "execution_count": 98,
   "metadata": {},
   "outputs": [],
   "source": [
    "def charpath(array):\n",
    "    \n",
    "    # converting to lengths\n",
    "    array = bct.weight_conversion(array, 'lengths')\n",
    "    \n",
    "    # turning into distance array \n",
    "    distance_array, other_arr = bct.distance_wei(array)\n",
    "    \n",
    "    return bct.charpath(distance_array)[1]"
   ]
  },
  {
   "cell_type": "code",
   "execution_count": 30,
   "metadata": {},
   "outputs": [],
   "source": [
    "# generate NUM_RANDOMS randomize undirected, weighted networks (working)\n",
    "def randomize(array, iterations, num_randoms):\n",
    "    randomizedArrays = []\n",
    "    for i in range(num_randoms):\n",
    "        random_arr, eff = bct.randmio_und(array, iterations)\n",
    "        randomizedArrays.append(random_arr)\n",
    "    return randomizedArrays"
   ]
  },
  {
   "cell_type": "code",
   "execution_count": 31,
   "metadata": {},
   "outputs": [],
   "source": [
    "# generate NUM_RANDOMS randomized directed, weighted networks (resting)\n",
    "def randomize_d(arr, iterations, num_randoms):\n",
    "    randomizedArrays = []\n",
    "    for i in range(num_randoms):\n",
    "        rarr, eff = bct.randmio_dir(arr, iterations)\n",
    "        randomizedArrays.append(rarr)\n",
    "    return randomizedArrays"
   ]
  },
  {
   "cell_type": "code",
   "execution_count": 17,
   "metadata": {},
   "outputs": [],
   "source": [
    "working = np.array(pd.read_csv('subj001cond002.csv'))\n",
    "\n",
    "resting = np.array(pd.read_csv('subj001cond001.csv'))"
   ]
  },
  {
   "cell_type": "markdown",
   "metadata": {},
   "source": [
    "### Thresholding Networks "
   ]
  },
  {
   "cell_type": "code",
   "execution_count": 28,
   "metadata": {},
   "outputs": [],
   "source": [
    "thresholds = [.1, .2, .3, .4, .5]\n",
    "\n",
    "restingStates = threshold(resting, thresholds)\n",
    "workingStates = threshold(working, thresholds)"
   ]
  },
  {
   "cell_type": "markdown",
   "metadata": {},
   "source": [
    "## Randomizing Networks \n",
    "\n",
    "Here we are randomizing networks for each threshold"
   ]
  },
  {
   "cell_type": "code",
   "execution_count": 33,
   "metadata": {},
   "outputs": [],
   "source": [
    "randomizedWorkingNetworks = [randomize(i, 5, 100) for i in workingStates]"
   ]
  },
  {
   "cell_type": "code",
   "execution_count": 34,
   "metadata": {},
   "outputs": [],
   "source": [
    "randomizedRestingNetworks = [randomize_d(i, 5, 100) for i in restingStates]"
   ]
  },
  {
   "cell_type": "markdown",
   "metadata": {},
   "source": [
    "#### Getting Network Metrics for Randomized Networks "
   ]
  },
  {
   "cell_type": "code",
   "execution_count": 42,
   "metadata": {},
   "outputs": [],
   "source": [
    "# CLUSTERING COEFFICIENTS WORKING STATE NETWORKS\n",
    "\n",
    "random_clust_coeffs = {}\n",
    "\n",
    "count = 10\n",
    "for i in randomizedWorkingNetworks:\n",
    "    #obtaining clustering coefficients for each of the randomized matrices\n",
    "    randomizedClusters = [get_clustering_coeff(arr) for arr in i]\n",
    "    \n",
    "    randomizedAvgClusters = [np.mean(arr) for arr in randomizedClusters]\n",
    "    \n",
    "    randomizedAvg = np.mean(randomizedAvgClusters)\n",
    "    \n",
    "    random_clust_coeffs[count] = randomizedAvg\n",
    "    \n",
    "    count += 10"
   ]
  },
  {
   "cell_type": "code",
   "execution_count": 43,
   "metadata": {},
   "outputs": [
    {
     "data": {
      "text/plain": [
       "{10: 0.04553406294369868,\n",
       " 20: 0.05690102282478066,\n",
       " 30: 0.06127793657709912,\n",
       " 40: 0.061323656268193194,\n",
       " 50: 0.05716521136735544}"
      ]
     },
     "execution_count": 43,
     "metadata": {},
     "output_type": "execute_result"
    }
   ],
   "source": [
    "random_clust_coeffs"
   ]
  },
  {
   "cell_type": "code",
   "execution_count": 44,
   "metadata": {},
   "outputs": [],
   "source": [
    "# CLUSTERING COEFFICIENTS RESTING STATE NETWORKS\n",
    "\n",
    "random_clust_coeffs_resting = {}\n",
    "\n",
    "count = 10\n",
    "for i in randomizedRestingNetworks:\n",
    "    #obtaining clustering coefficients for each of the randomized matrices\n",
    "    randomizedClusters = [get_clustering_coeff(arr) for arr in i]\n",
    "    \n",
    "    randomizedAvgClusters = [np.mean(arr) for arr in randomizedClusters]\n",
    "    \n",
    "    randomizedAvg = np.mean(randomizedAvgClusters)\n",
    "    \n",
    "    random_clust_coeffs_resting[count] = randomizedAvg\n",
    "    \n",
    "    count += 10"
   ]
  },
  {
   "cell_type": "code",
   "execution_count": 45,
   "metadata": {},
   "outputs": [
    {
     "data": {
      "text/plain": [
       "{10: 0.06446721422003235,\n",
       " 20: 0.07079388158927634,\n",
       " 30: 0.07710257209169963,\n",
       " 40: 0.07941956699815134,\n",
       " 50: 0.07575776418353161}"
      ]
     },
     "execution_count": 45,
     "metadata": {},
     "output_type": "execute_result"
    }
   ],
   "source": [
    "random_clust_coeffs_resting"
   ]
  },
  {
   "cell_type": "code",
   "execution_count": null,
   "metadata": {},
   "outputs": [],
   "source": [
    "random_efficiencies = {}\n",
    "\n",
    "count = 10\n",
    "\n",
    "for random_networks in randomizedWorkingNetworks:\n",
    "    random_working_global_eff = []\n",
    "    for arr in random_networks:\n",
    "        # adding the global efficiency for the current random network\n",
    "        random_working_global_eff.append(charpath(arr))\n",
    "        \n",
    "    randomized_avg_efficiency = np.mean(random_working_global_eff)\n",
    "    random_efficiencies[count] =  randomized_avg_efficiency\n",
    "    count += 10"
   ]
  },
  {
   "cell_type": "code",
   "execution_count": 57,
   "metadata": {},
   "outputs": [],
   "source": [
    "random_efficiencies = {}"
   ]
  },
  {
   "cell_type": "code",
   "execution_count": 55,
   "metadata": {},
   "outputs": [],
   "source": [
    "random_working_global_eff = []\n",
    "for arr in randomizedWorkingNetworks[0]:\n",
    "    random_working_global_eff+= [charpath(arr)]"
   ]
  },
  {
   "cell_type": "code",
   "execution_count": 58,
   "metadata": {},
   "outputs": [],
   "source": [
    "randomized_avg_efficiency = np.mean(random_working_global_eff)\n",
    "random_efficiencies[10] = randomized_avg_efficiency"
   ]
  },
  {
   "cell_type": "code",
   "execution_count": 59,
   "metadata": {},
   "outputs": [],
   "source": [
    "random_working_global_eff = []\n",
    "for arr in randomizedWorkingNetworks[1]:\n",
    "    random_working_global_eff += [charpath(arr)]"
   ]
  },
  {
   "cell_type": "code",
   "execution_count": 60,
   "metadata": {},
   "outputs": [],
   "source": [
    "randomized_avg_efficiency = np.mean(random_working_global_eff)\n",
    "random_efficiencies[20] = randomized_avg_efficiency"
   ]
  },
  {
   "cell_type": "code",
   "execution_count": 62,
   "metadata": {},
   "outputs": [],
   "source": [
    "random_working_global_eff = []\n",
    "for arr in randomizedWorkingNetworks[2]:\n",
    "    random_working_global_eff += [charpath(arr)]"
   ]
  },
  {
   "cell_type": "code",
   "execution_count": 63,
   "metadata": {},
   "outputs": [],
   "source": [
    "randomized_avg_efficiency = np.mean(random_working_global_eff)\n",
    "random_efficiencies[30] = randomized_avg_efficiency"
   ]
  },
  {
   "cell_type": "code",
   "execution_count": 65,
   "metadata": {},
   "outputs": [],
   "source": [
    "random_working_global_eff = []\n",
    "for arr in randomizedWorkingNetworks[3]:\n",
    "    random_working_global_eff += [charpath(arr)]"
   ]
  },
  {
   "cell_type": "code",
   "execution_count": 66,
   "metadata": {},
   "outputs": [],
   "source": [
    "randomized_avg_efficiency = np.mean(random_working_global_eff)\n",
    "random_efficiencies[40] = randomized_avg_efficiency"
   ]
  },
  {
   "cell_type": "code",
   "execution_count": 67,
   "metadata": {},
   "outputs": [],
   "source": [
    "random_working_global_eff = []\n",
    "for arr in randomizedWorkingNetworks[4]:\n",
    "    random_working_global_eff += [charpath(arr)]"
   ]
  },
  {
   "cell_type": "code",
   "execution_count": 68,
   "metadata": {},
   "outputs": [],
   "source": [
    "randomized_avg_efficiency = np.mean(random_working_global_eff)\n",
    "random_efficiencies[50] = randomized_avg_efficiency"
   ]
  },
  {
   "cell_type": "code",
   "execution_count": 69,
   "metadata": {},
   "outputs": [
    {
     "data": {
      "text/plain": [
       "{10: 0.18636043296382718,\n",
       " 20: 0.1899269043027701,\n",
       " 30: 0.19062799662645585,\n",
       " 40: 0.19080078731427177,\n",
       " 50: 0.19088647399171}"
      ]
     },
     "execution_count": 69,
     "metadata": {},
     "output_type": "execute_result"
    }
   ],
   "source": [
    "random_efficiencies"
   ]
  },
  {
   "cell_type": "code",
   "execution_count": 70,
   "metadata": {},
   "outputs": [],
   "source": [
    "random_resting_efficiencies = {}"
   ]
  },
  {
   "cell_type": "code",
   "execution_count": 71,
   "metadata": {},
   "outputs": [],
   "source": [
    "random_resting_global_eff = []\n",
    "for arr in randomizedRestingNetworks[0]:\n",
    "    random_resting_global_eff += [charpath(arr)]"
   ]
  },
  {
   "cell_type": "code",
   "execution_count": 72,
   "metadata": {},
   "outputs": [],
   "source": [
    "randomized_resting_avg_efficiency = np.mean(random_resting_global_eff)\n",
    "random_resting_efficiencies[10] = randomized_resting_avg_efficiency"
   ]
  },
  {
   "cell_type": "code",
   "execution_count": 74,
   "metadata": {},
   "outputs": [],
   "source": [
    "random_resting_global_eff = []\n",
    "for arr in randomizedRestingNetworks[1]:\n",
    "    random_resting_global_eff += [charpath(arr)]"
   ]
  },
  {
   "cell_type": "code",
   "execution_count": 75,
   "metadata": {},
   "outputs": [],
   "source": [
    "randomized_resting_avg_efficiency = np.mean(random_resting_global_eff)\n",
    "random_resting_efficiencies[20] = randomized_resting_avg_efficiency"
   ]
  },
  {
   "cell_type": "code",
   "execution_count": 77,
   "metadata": {},
   "outputs": [],
   "source": [
    "random_resting_global_eff = []\n",
    "for arr in randomizedRestingNetworks[2]:\n",
    "    random_resting_global_eff += [charpath(arr)]"
   ]
  },
  {
   "cell_type": "code",
   "execution_count": 78,
   "metadata": {},
   "outputs": [],
   "source": [
    "randomized_resting_avg_efficiency = np.mean(random_resting_global_eff)\n",
    "random_resting_efficiencies[30] = randomized_resting_avg_efficiency"
   ]
  },
  {
   "cell_type": "code",
   "execution_count": 80,
   "metadata": {},
   "outputs": [],
   "source": [
    "random_resting_global_eff = []\n",
    "for arr in randomizedRestingNetworks[3]:\n",
    "    random_resting_global_eff += [charpath(arr)]"
   ]
  },
  {
   "cell_type": "code",
   "execution_count": 81,
   "metadata": {},
   "outputs": [],
   "source": [
    "randomized_resting_avg_efficiency = np.mean(random_resting_global_eff)\n",
    "random_resting_efficiencies[40] = randomized_resting_avg_efficiency"
   ]
  },
  {
   "cell_type": "code",
   "execution_count": 83,
   "metadata": {},
   "outputs": [],
   "source": [
    "random_resting_global_eff = []\n",
    "for arr in randomizedRestingNetworks[4]:\n",
    "    random_resting_global_eff += [charpath(arr)]"
   ]
  },
  {
   "cell_type": "code",
   "execution_count": 84,
   "metadata": {},
   "outputs": [],
   "source": [
    "randomized_resting_avg_efficiency = np.mean(random_resting_global_eff)\n",
    "random_resting_efficiencies[50] = randomized_resting_avg_efficiency"
   ]
  },
  {
   "cell_type": "code",
   "execution_count": 85,
   "metadata": {},
   "outputs": [
    {
     "data": {
      "text/plain": [
       "{10: 0.21708962046900715,\n",
       " 20: 0.21942865066322428,\n",
       " 30: 0.22013114109943568,\n",
       " 40: 0.2199797903015698,\n",
       " 50: 0.21998728136112966}"
      ]
     },
     "execution_count": 85,
     "metadata": {},
     "output_type": "execute_result"
    }
   ],
   "source": [
    "random_resting_efficiencies"
   ]
  },
  {
   "cell_type": "markdown",
   "metadata": {},
   "source": [
    "# Clustering Coefficient"
   ]
  },
  {
   "cell_type": "code",
   "execution_count": 87,
   "metadata": {},
   "outputs": [],
   "source": [
    "restingClusters = [get_clustering_coeff(i) for i in restingStates]\n",
    "workingClusters = [get_clustering_coeff(i) for i in workingStates]"
   ]
  },
  {
   "cell_type": "code",
   "execution_count": 89,
   "metadata": {},
   "outputs": [],
   "source": [
    "restingAvgClusters = [np.mean(i) for i in restingClusters]\n",
    "workingAvgClusters = [np.mean(i) for i in workingClusters]"
   ]
  },
  {
   "cell_type": "code",
   "execution_count": 93,
   "metadata": {},
   "outputs": [],
   "source": [
    "standardizedWorkingClusters = []\n",
    "\n",
    "#standardizing working state cluster coefficients\n",
    "count = 10\n",
    "for i in workingAvgClusters:\n",
    "    standardizedWorkingClusters.append(normalized(i, random_clust_coeffs[count]))\n",
    "    count += 10"
   ]
  },
  {
   "cell_type": "code",
   "execution_count": 94,
   "metadata": {},
   "outputs": [],
   "source": [
    "standardizedRestingClusters = []\n",
    "\n",
    "#standardizing resting state cluster coefficients\n",
    "count = 10\n",
    "for i in restingAvgClusters:\n",
    "    standardizedRestingClusters.append(normalized(i, random_clust_coeffs_resting[count]))\n",
    "    count += 10"
   ]
  },
  {
   "cell_type": "code",
   "execution_count": 106,
   "metadata": {},
   "outputs": [
    {
     "data": {
      "text/plain": [
       "{10: 0.06446721422003235,\n",
       " 20: 0.07079388158927634,\n",
       " 30: 0.07710257209169963,\n",
       " 40: 0.07941956699815134,\n",
       " 50: 0.07575776418353161}"
      ]
     },
     "execution_count": 106,
     "metadata": {},
     "output_type": "execute_result"
    }
   ],
   "source": [
    "random_clust_coeffs_resting"
   ]
  },
  {
   "cell_type": "code",
   "execution_count": 105,
   "metadata": {},
   "outputs": [
    {
     "data": {
      "text/plain": [
       "[0.15209105973393913,\n",
       " 0.1348173211789563,\n",
       " 0.12329177084372243,\n",
       " 0.11189634741883275,\n",
       " 0.09850244967392581]"
      ]
     },
     "execution_count": 105,
     "metadata": {},
     "output_type": "execute_result"
    }
   ],
   "source": [
    "restingAvgClusters"
   ]
  },
  {
   "cell_type": "code",
   "execution_count": 104,
   "metadata": {},
   "outputs": [
    {
     "data": {
      "text/plain": [
       "[2.3592001232570525,\n",
       " 1.9043640234494228,\n",
       " 1.599061710899723,\n",
       " 1.4089266870648813,\n",
       " 1.3002291017365912]"
      ]
     },
     "execution_count": 104,
     "metadata": {},
     "output_type": "execute_result"
    }
   ],
   "source": [
    "standardizedRestingClusters"
   ]
  },
  {
   "cell_type": "code",
   "execution_count": 95,
   "metadata": {},
   "outputs": [
    {
     "data": {
      "image/png": "[encoded data removed]",
      "text/plain": [
       "<Figure size 1152x1008 with 1 Axes>"
      ]
     },
     "metadata": {},
     "output_type": "display_data"
    }
   ],
   "source": [
    "# Plotting the average clustering coefficient accross different thresholds\n",
    "\n",
    "f, ax = plt.subplots(1, 1)\n",
    "f.set_size_inches(16, 14)\n",
    "sns.lineplot(x=thresholds, y=standardizedRestingClusters)\n",
    "sns.lineplot(x=thresholds, y=standardizedWorkingClusters)\n",
    "ax.legend(['Resting', 'Working']);\n",
    "ax.set(xlabel='Thresholds', ylabel='Average Clustering Coeff', \n",
    "       title='Standardized Clustering coefficient accross different thresholds');"
   ]
  },
  {
   "cell_type": "code",
   "execution_count": null,
   "metadata": {},
   "outputs": [],
   "source": []
  },
  {
   "cell_type": "markdown",
   "metadata": {},
   "source": [
    "# Global Efficiency"
   ]
  },
  {
   "cell_type": "code",
   "execution_count": 100,
   "metadata": {},
   "outputs": [],
   "source": [
    "# global efficiencies for working state networks\n",
    "efficiencies = [charpath(arr) for arr in workingStates]\n",
    "\n",
    "\n",
    "# global efficiencies for resting state networks \n",
    "restingEfficiencies = [charpath(arr) for arr in restingStates]"
   ]
  },
  {
   "cell_type": "code",
   "execution_count": 101,
   "metadata": {},
   "outputs": [],
   "source": [
    "normalizedEfficiencies = []\n",
    "count = 10\n",
    "\n",
    "for i in efficiencies:\n",
    "    normalizedEfficiencies.append(normalized(i, random_efficiencies[count]))\n",
    "    count += 10 "
   ]
  },
  {
   "cell_type": "code",
   "execution_count": 102,
   "metadata": {},
   "outputs": [],
   "source": [
    "normalizedRestingEfficiencies = []\n",
    "count = 10\n",
    "for i in restingEfficiencies: \n",
    "    normalizedRestingEfficiencies.append(normalized(i, random_resting_efficiencies[count]))\n",
    "    count += 10"
   ]
  },
  {
   "cell_type": "code",
   "execution_count": 107,
   "metadata": {},
   "outputs": [
    {
     "data": {
      "text/plain": [
       "{10: 0.21708962046900715,\n",
       " 20: 0.21942865066322428,\n",
       " 30: 0.22013114109943568,\n",
       " 40: 0.2199797903015698,\n",
       " 50: 0.21998728136112966}"
      ]
     },
     "execution_count": 107,
     "metadata": {},
     "output_type": "execute_result"
    }
   ],
   "source": [
    "random_resting_efficiencies"
   ]
  },
  {
   "cell_type": "code",
   "execution_count": 108,
   "metadata": {},
   "outputs": [
    {
     "data": {
      "text/plain": [
       "[0.1826067002798918,\n",
       " 0.18853258467125286,\n",
       " 0.1895811680456769,\n",
       " 0.18960507546627048,\n",
       " 0.18960507546627048]"
      ]
     },
     "execution_count": 108,
     "metadata": {},
     "output_type": "execute_result"
    }
   ],
   "source": [
    "restingEfficiencies"
   ]
  },
  {
   "cell_type": "code",
   "execution_count": 109,
   "metadata": {},
   "outputs": [
    {
     "data": {
      "text/plain": [
       "[0.8411581349922793,\n",
       " 0.8591976667650834,\n",
       " 0.8612192127784455,\n",
       " 0.8619204300828786,\n",
       " 0.8618910797620888]"
      ]
     },
     "execution_count": 109,
     "metadata": {},
     "output_type": "execute_result"
    }
   ],
   "source": [
    "normalizedRestingEfficiencies"
   ]
  },
  {
   "cell_type": "code",
   "execution_count": 103,
   "metadata": {},
   "outputs": [
    {
     "data": {
      "image/png": "[encoded data removed]",
      "text/plain": [
       "<Figure size 1152x1008 with 1 Axes>"
      ]
     },
     "metadata": {},
     "output_type": "display_data"
    }
   ],
   "source": [
    "# Plotting the average clustering coefficient accross different thresholds\n",
    "\n",
    "f, ax = plt.subplots(1, 1)\n",
    "f.set_size_inches(16, 14)\n",
    "sns.lineplot(x=thresholds, y=normalizedRestingEfficiencies)\n",
    "sns.lineplot(x=thresholds, y=normalizedEfficiencies)\n",
    "ax.legend(['Resting', 'Working']);\n",
    "ax.set(xlabel='Thresholds', ylabel='Global Efficiency', \n",
    "       title='Standardized Global Efficiency accross different thresholds');"
   ]
  },
  {
   "cell_type": "code",
   "execution_count": null,
   "metadata": {},
   "outputs": [],
   "source": []
  }
 ],
 "metadata": {
  "kernelspec": {
   "display_name": "Python 3",
   "language": "python",
   "name": "python3"
  },
  "language_info": {
   "codemirror_mode": {
    "name": "ipython",
    "version": 3
   },
   "file_extension": ".py",
   "mimetype": "text/x-python",
   "name": "python",
   "nbconvert_exporter": "python",
   "pygments_lexer": "ipython3",
   "version": "3.7.6"
  }
 },
 "nbformat": 4,
 "nbformat_minor": 2
}
